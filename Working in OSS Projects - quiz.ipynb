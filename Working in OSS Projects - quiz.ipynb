{
 "cells": [
  {
   "cell_type": "markdown",
   "metadata": {},
   "source": [
    "When first getting involved in an OSS project, you should (Select all answers that apply):\n",
    "\n",
    "    Consider what it is you would like to work on, either because it is needed by you, or it just interests you\n",
    "    Start by helping test and report results"
   ]
  },
  {
   "cell_type": "markdown",
   "metadata": {},
   "source": [
    "When working on an OSS project, the best strategy is to:\n",
    "\n",
    "    Submit changes one at a time in a sequential manner, even if the full change will not do much until the entire patch series is incorporated"
   ]
  },
  {
   "cell_type": "markdown",
   "metadata": {},
   "source": [
    "When there is someone in the project community that gets abusive or just difficult to deal with, you should (Select all answers that apply):\n",
    "\n",
    "    Let established community members moderate the conflict\n",
    "    Actually read what they are saying; even if phrased in a nasty manner, the points might need addressing, and you can respond to them calmly"
   ]
  },
  {
   "cell_type": "markdown",
   "metadata": {},
   "source": [
    "You have worked hard on implementing a new feature for an OSS project and submitted your work. A senior maintainer liked you ideas, but ignored your implementation and substituted their own new one to the same end. You should:\n",
    "\n",
    "    If the other implementation is successful at achieving its purpose, you should accept the result gratefully (after registering your displeasure that rather than reviewing and modifying your work, it was abandoned), and contribute to improving the new implementation as needed"
   ]
  },
  {
   "cell_type": "markdown",
   "metadata": {},
   "source": [
    "On a project mailing list, someone inserts an irrelevant political, religious, or philosophical comment into an otherwise technical discussion and this is at least mildly offensive to you. A good and proper response could be (Select all that apply):\n",
    "\n",
    "    Ignore the comment and just answer the technical issues\n",
    "    Politely ask the poster to not make such comments. If they counter with more and stronger statements, ask any discussion moderators to quiet the issue offline if needed."
   ]
  }
 ],
 "metadata": {
  "kernelspec": {
   "display_name": "Python 3",
   "language": "python",
   "name": "python3"
  },
  "language_info": {
   "codemirror_mode": {
    "name": "ipython",
    "version": 3
   },
   "file_extension": ".py",
   "mimetype": "text/x-python",
   "name": "python",
   "nbconvert_exporter": "python",
   "pygments_lexer": "ipython3",
   "version": "3.7.6"
  }
 },
 "nbformat": 4,
 "nbformat_minor": 4
}
