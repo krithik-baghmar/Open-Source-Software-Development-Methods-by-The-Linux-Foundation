{
 "cells": [
  {
   "cell_type": "markdown",
   "metadata": {},
   "source": [
    "What are some considerations that go into OSS license selection (Select all answers that apply)?\n",
    "\n",
    "    should all modifications be public\n",
    "    policy on patents"
   ]
  },
  {
   "cell_type": "markdown",
   "metadata": {},
   "source": [
    "Which of the following is a \"copyleft\" license?\n",
    "\n",
    "    gpl"
   ]
  },
  {
   "cell_type": "markdown",
   "metadata": {},
   "source": [
    "FUD stands for:\n",
    "\n",
    "    Fear, Uncertainty and Doubt"
   ]
  },
  {
   "cell_type": "markdown",
   "metadata": {},
   "source": [
    "Select the true statement:\n",
    "\n",
    "    OSS and Closed Source Software can co-exist in a product, but careful analysis should be done to make sure proper boundaries are respected and enforced"
   ]
  },
  {
   "cell_type": "markdown",
   "metadata": {},
   "source": [
    "Select the true statement:\n",
    "\n",
    "    Use of OSS has no predetermined effect on legal costs. It can lower them, since proper license enforcement can be built-in early, or it can raise them by having more people pick at the code if attribution has been sloppy"
   ]
  }
 ],
 "metadata": {
  "kernelspec": {
   "display_name": "Python 3",
   "language": "python",
   "name": "python3"
  },
  "language_info": {
   "codemirror_mode": {
    "name": "ipython",
    "version": 3
   },
   "file_extension": ".py",
   "mimetype": "text/x-python",
   "name": "python",
   "nbconvert_exporter": "python",
   "pygments_lexer": "ipython3",
   "version": "3.7.6"
  }
 },
 "nbformat": 4,
 "nbformat_minor": 4
}
