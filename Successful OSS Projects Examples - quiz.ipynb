{
 "cells": [
  {
   "cell_type": "markdown",
   "metadata": {},
   "source": [
    "The git version control system arose from needs of which project:\n",
    "\n",
    "    The Linux Kernel"
   ]
  },
  {
   "cell_type": "markdown",
   "metadata": {},
   "source": [
    "Which of the following are OSS projects used to construct a graphical user interface (GUI)?\n",
    "\n",
    "    kde\n",
    "    x window system\n",
    "    wayland\n",
    "    gnome"
   ]
  },
  {
   "cell_type": "markdown",
   "metadata": {},
   "source": [
    "Which of the following are projects emanating from the Free Software Foundation?\n",
    "\n",
    "    glibc\n",
    "    bas\n",
    "    gdb\n",
    "    gcc"
   ]
  },
  {
   "cell_type": "markdown",
   "metadata": {},
   "source": [
    "Which of the following are widespread fully OSS Projects (Select all that apply):\n",
    "\n",
    "    none of the above"
   ]
  },
  {
   "cell_type": "markdown",
   "metadata": {},
   "source": [
    "Which of the following document preparation systems are OSS projects (Select all that apply):\n",
    "\n",
    "    TeX,LaTeX and related versions\n",
    "    LibreOfiice"
   ]
  }
 ],
 "metadata": {
  "kernelspec": {
   "display_name": "Python 3",
   "language": "python",
   "name": "python3"
  },
  "language_info": {
   "codemirror_mode": {
    "name": "ipython",
    "version": 3
   },
   "file_extension": ".py",
   "mimetype": "text/x-python",
   "name": "python",
   "nbconvert_exporter": "python",
   "pygments_lexer": "ipython3",
   "version": "3.7.6"
  }
 },
 "nbformat": 4,
 "nbformat_minor": 4
}
