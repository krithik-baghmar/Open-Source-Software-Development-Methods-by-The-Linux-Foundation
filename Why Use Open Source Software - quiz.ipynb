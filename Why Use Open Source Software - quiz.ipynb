{
 "cells": [
  {
   "cell_type": "markdown",
   "metadata": {},
   "source": [
    "From a business perspective, use of OSS (Select all answers that apply):\n",
    "\n",
    "    Enables use of ingredients from other sources and speeds development\n",
    "    Makes marketing easier as some ingredients are already well-known and trusted"
   ]
  },
  {
   "cell_type": "markdown",
   "metadata": {},
   "source": [
    "OSS is (Select all answers that apply):\n",
    "\n",
    "\n",
    "    Secure or insecure depending on the quality and priorities of the project maintainers, but at least users can judge this by open discussion and code inspection\n",
    "\n",
    "    Can be more secure because many developers can easily see the code, look for problems, and mitigate problems when they are discovered"
   ]
  },
  {
   "cell_type": "markdown",
   "metadata": {},
   "source": [
    "For school systems at any level, use of OSS (Select all answers that apply):\n",
    "\n",
    "    Can lower costs by letting older hardware be used\n",
    "    Can lower costs by letting low-cost or free software be used"
   ]
  },
  {
   "cell_type": "markdown",
   "metadata": {},
   "source": [
    "School systems can benefit from using OSS because (Select all answers that apply):\n",
    "\n",
    "    Students may learn how to join projects and contribute from an early age or stage in their education\n",
    "    Students can more easily learn about how things really work as compared to using closed source operating systems and applications\n",
    "    As the world's IT infrastructure becomes more and more OSS-based, students will be better prepared to enter the work force especially as developers\n",
    "\n"
   ]
  },
  {
   "cell_type": "markdown",
   "metadata": {},
   "source": [
    "Developers working in OSS will:\n",
    "\n",
    "    Will often find it easier to get good jobs because their work will be more open to inspection"
   ]
  }
 ],
 "metadata": {
  "kernelspec": {
   "display_name": "Python 3",
   "language": "python",
   "name": "python3"
  },
  "language_info": {
   "codemirror_mode": {
    "name": "ipython",
    "version": 3
   },
   "file_extension": ".py",
   "mimetype": "text/x-python",
   "name": "python",
   "nbconvert_exporter": "python",
   "pygments_lexer": "ipython3",
   "version": "3.7.6"
  }
 },
 "nbformat": 4,
 "nbformat_minor": 4
}
