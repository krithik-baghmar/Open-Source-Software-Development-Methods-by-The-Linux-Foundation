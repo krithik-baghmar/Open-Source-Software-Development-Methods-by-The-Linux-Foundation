{
 "cells": [
  {
   "cell_type": "markdown",
   "metadata": {},
   "source": [
    "Select the correct statement. GitHub:\n",
    "\n",
    "    Is a private company acquired by Microsoft in 2018"
   ]
  },
  {
   "cell_type": "markdown",
   "metadata": {},
   "source": [
    "Sites that offer services similar to GitHub include (select all that apply):\n",
    "\n",
    "    GitKraken\n",
    "    Launchpad\n",
    "    GitLab"
   ]
  },
  {
   "cell_type": "markdown",
   "metadata": {},
   "source": [
    "When using a GitHub public repository:\n",
    "\n",
    "    Anyone on the Internet can download the data, but only authorized collaborators can upload information and modifications"
   ]
  },
  {
   "cell_type": "markdown",
   "metadata": {},
   "source": [
    "To use Git, you:\n",
    "\n",
    "    Be on any operating system and version that has Git installed, and almost all do"
   ]
  },
  {
   "cell_type": "markdown",
   "metadata": {},
   "source": [
    "To use GitHub and the other sites that provide repository hosting:\n",
    "\n",
    "    You can work from either a graphical interface or a command line"
   ]
  }
 ],
 "metadata": {
  "kernelspec": {
   "display_name": "Python 3",
   "language": "python",
   "name": "python3"
  },
  "language_info": {
   "codemirror_mode": {
    "name": "ipython",
    "version": 3
   },
   "file_extension": ".py",
   "mimetype": "text/x-python",
   "name": "python",
   "nbconvert_exporter": "python",
   "pygments_lexer": "ipython3",
   "version": "3.7.6"
  }
 },
 "nbformat": 4,
 "nbformat_minor": 4
}
