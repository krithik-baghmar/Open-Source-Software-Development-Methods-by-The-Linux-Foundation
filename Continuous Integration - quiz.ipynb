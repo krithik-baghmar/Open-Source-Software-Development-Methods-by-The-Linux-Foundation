{
 "cells": [
  {
   "cell_type": "markdown",
   "metadata": {},
   "source": [
    "Continuous Integration (Select all answers that apply):\n",
    "\n",
    "    Can put a strain on developers who have to submit changes constantly\n",
    "    Can speed development, as wrong paths can be discovered before they are pursued for a long time\n",
    "    Can be costly to set up, as it requires a server and staff and training developers to use properly\n",
    "    Minimizes regression bugs, since thorough testing is done at every stage before release (i.e. continuously)\n",
    "    Speeds up the development process, as builds and tests are fully automated"
   ]
  },
  {
   "cell_type": "markdown",
   "metadata": {},
   "source": [
    "What is the correct order of the Continuous Integration process stages?\n",
    "\n",
    "    Integration, Delivery and Deployment"
   ]
  },
  {
   "cell_type": "markdown",
   "metadata": {},
   "source": [
    "Which statement is true?\n",
    "\n",
    "    Use of Continuous Integration and revision control methods are independent, but are usually employed together"
   ]
  },
  {
   "cell_type": "markdown",
   "metadata": {},
   "source": [
    "The Linux Kernel Continuous Integration Project was initiated by:\n",
    "\n",
    "    Linaro"
   ]
  },
  {
   "cell_type": "markdown",
   "metadata": {},
   "source": [
    "There are many tooling suites used for Continuous Integration. The most widely used one is:\n",
    "\n",
    "    jenkins"
   ]
  }
 ],
 "metadata": {
  "kernelspec": {
   "display_name": "Python 3",
   "language": "python",
   "name": "python3"
  },
  "language_info": {
   "codemirror_mode": {
    "name": "ipython",
    "version": 3
   },
   "file_extension": ".py",
   "mimetype": "text/x-python",
   "name": "python",
   "nbconvert_exporter": "python",
   "pygments_lexer": "ipython3",
   "version": "3.7.6"
  }
 },
 "nbformat": 4,
 "nbformat_minor": 4
}
